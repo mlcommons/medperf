{
 "cells": [
  {
   "cell_type": "code",
   "execution_count": null,
   "metadata": {},
   "outputs": [],
   "source": [
    "import pandas as pd\n",
    "import os\n",
    "import yaml\n",
    "\n",
    "\n",
    "def create_metrics_dataframe(per_round_status):\n",
    "    # concatenate all the 'metrics' lists\n",
    "    lists = [r['metrics'] for r in per_round_status]\n",
    "    metrics = [i for l in lists for i in l]\n",
    "    return pd.DataFrame(metrics)\n",
    "\n",
    "def load_status_yaml(training_id=1, server='api_medperf_org'):\n",
    "    with open(os.path.join(os.path.expanduser('~'), '.medperf/training', server, f\"{training_id}\", 'status.yaml'), 'r') as f:\n",
    "        return yaml.safe_load(f)"
   ]
  },
  {
   "cell_type": "code",
   "execution_count": null,
   "metadata": {},
   "outputs": [],
   "source": [
    "df = create_metrics_dataframe(load_status_yaml())"
   ]
  },
  {
   "cell_type": "code",
   "execution_count": null,
   "metadata": {},
   "outputs": [],
   "source": [
    "df.head()"
   ]
  },
  {
   "cell_type": "code",
   "execution_count": null,
   "metadata": {},
   "outputs": [],
   "source": []
  }
 ],
 "metadata": {
  "kernelspec": {
   "display_name": "flpost",
   "language": "python",
   "name": "python3"
  },
  "language_info": {
   "codemirror_mode": {
    "name": "ipython",
    "version": 3
   },
   "file_extension": ".py",
   "mimetype": "text/x-python",
   "name": "python",
   "nbconvert_exporter": "python",
   "pygments_lexer": "ipython3",
   "version": "3.10.15"
  }
 },
 "nbformat": 4,
 "nbformat_minor": 2
}
