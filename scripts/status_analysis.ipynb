{
 "cells": [
  {
   "cell_type": "code",
   "execution_count": 7,
   "metadata": {},
   "outputs": [],
   "source": [
    "import pandas as pd\n",
    "import os\n",
    "import yaml\n",
    "\n",
    "\n",
    "def create_metrics_dataframe(per_round_status):\n",
    "    # concatenate all the 'metrics' lists\n",
    "    lists = [r['metrics'] for r in per_round_status]\n",
    "    metrics = [i for l in lists for i in l]\n",
    "    return pd.DataFrame(metrics)\n",
    "\n",
    "def load_status_yaml(training_id=1, server='api_medperf_org'):\n",
    "    with open(os.path.join(os.path.expanduser('~'), '.medperf/training', server, f\"{training_id}\", 'status.yaml'), 'r') as f:\n",
    "        return yaml.safe_load(f)"
   ]
  },
  {
   "cell_type": "code",
   "execution_count": 8,
   "metadata": {},
   "outputs": [],
   "source": [
    "df = create_metrics_dataframe(load_status_yaml())"
   ]
  },
  {
   "cell_type": "code",
   "execution_count": 9,
   "metadata": {},
   "outputs": [
    {
     "data": {
      "text/html": [
       "<div>\n",
       "<style scoped>\n",
       "    .dataframe tbody tr th:only-of-type {\n",
       "        vertical-align: middle;\n",
       "    }\n",
       "\n",
       "    .dataframe tbody tr th {\n",
       "        vertical-align: top;\n",
       "    }\n",
       "\n",
       "    .dataframe thead th {\n",
       "        text-align: right;\n",
       "    }\n",
       "</style>\n",
       "<table border=\"1\" class=\"dataframe\">\n",
       "  <thead>\n",
       "    <tr style=\"text-align: right;\">\n",
       "      <th></th>\n",
       "      <th>metric_name</th>\n",
       "      <th>metric_origin</th>\n",
       "      <th>metric_value</th>\n",
       "      <th>round</th>\n",
       "      <th>task_name</th>\n",
       "    </tr>\n",
       "  </thead>\n",
       "  <tbody>\n",
       "    <tr>\n",
       "      <th>0</th>\n",
       "      <td>val_eval</td>\n",
       "      <td>kcma@mdanderson.org</td>\n",
       "      <td>0.902186</td>\n",
       "      <td>0</td>\n",
       "      <td>aggregated_model_validation</td>\n",
       "    </tr>\n",
       "    <tr>\n",
       "      <th>1</th>\n",
       "      <td>val_eval_C1</td>\n",
       "      <td>kcma@mdanderson.org</td>\n",
       "      <td>0.843617</td>\n",
       "      <td>0</td>\n",
       "      <td>aggregated_model_validation</td>\n",
       "    </tr>\n",
       "    <tr>\n",
       "      <th>2</th>\n",
       "      <td>val_eval_C2</td>\n",
       "      <td>kcma@mdanderson.org</td>\n",
       "      <td>0.889711</td>\n",
       "      <td>0</td>\n",
       "      <td>aggregated_model_validation</td>\n",
       "    </tr>\n",
       "    <tr>\n",
       "      <th>3</th>\n",
       "      <td>val_eval_C3</td>\n",
       "      <td>kcma@mdanderson.org</td>\n",
       "      <td>0.918437</td>\n",
       "      <td>0</td>\n",
       "      <td>aggregated_model_validation</td>\n",
       "    </tr>\n",
       "    <tr>\n",
       "      <th>4</th>\n",
       "      <td>val_eval_C4</td>\n",
       "      <td>kcma@mdanderson.org</td>\n",
       "      <td>0.956977</td>\n",
       "      <td>0</td>\n",
       "      <td>aggregated_model_validation</td>\n",
       "    </tr>\n",
       "  </tbody>\n",
       "</table>\n",
       "</div>"
      ],
      "text/plain": [
       "   metric_name        metric_origin  metric_value  round  \\\n",
       "0     val_eval  kcma@mdanderson.org      0.902186      0   \n",
       "1  val_eval_C1  kcma@mdanderson.org      0.843617      0   \n",
       "2  val_eval_C2  kcma@mdanderson.org      0.889711      0   \n",
       "3  val_eval_C3  kcma@mdanderson.org      0.918437      0   \n",
       "4  val_eval_C4  kcma@mdanderson.org      0.956977      0   \n",
       "\n",
       "                     task_name  \n",
       "0  aggregated_model_validation  \n",
       "1  aggregated_model_validation  \n",
       "2  aggregated_model_validation  \n",
       "3  aggregated_model_validation  \n",
       "4  aggregated_model_validation  "
      ]
     },
     "execution_count": 9,
     "metadata": {},
     "output_type": "execute_result"
    }
   ],
   "source": [
    "df.head()"
   ]
  },
  {
   "cell_type": "code",
   "execution_count": null,
   "metadata": {},
   "outputs": [],
   "source": []
  }
 ],
 "metadata": {
  "kernelspec": {
   "display_name": "flpost",
   "language": "python",
   "name": "python3"
  },
  "language_info": {
   "codemirror_mode": {
    "name": "ipython",
    "version": 3
   },
   "file_extension": ".py",
   "mimetype": "text/x-python",
   "name": "python",
   "nbconvert_exporter": "python",
   "pygments_lexer": "ipython3",
   "version": "3.10.15"
  }
 },
 "nbformat": 4,
 "nbformat_minor": 2
}
